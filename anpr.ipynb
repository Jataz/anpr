{
 "cells": [
  {
   "cell_type": "code",
   "execution_count": 1,
   "id": "8ffafafe",
   "metadata": {
    "scrolled": true
   },
   "outputs": [],
   "source": [
    "import cv2\n",
    "from matplotlib import pyplot as plt\n",
    "import numpy as np\n",
    "import imutils\n",
    "import easyocr"
   ]
  },
  {
   "cell_type": "markdown",
   "id": "eedb366b",
   "metadata": {},
   "source": [
    "# 1.Read in image,Grayscale and Blur"
   ]
  },
  {
   "cell_type": "code",
   "execution_count": null,
   "id": "885dd970",
   "metadata": {},
   "outputs": [],
   "source": [
    "img  = cv2.imread('image url')\n",
    "gray = cv2.cvtcolor(img, cv2.COLOR_BGR2GRAY)\n",
    "plt.imshow(cv2.cvtColor(gray, cv2.COLOR_BGR2RGB))"
   ]
  },
  {
   "cell_type": "markdown",
   "id": "f886c377",
   "metadata": {},
   "source": [
    "# 2.Apply filter and find edges for localization "
   ]
  },
  {
   "cell_type": "code",
   "execution_count": null,
   "id": "7578b1ab",
   "metadata": {},
   "outputs": [],
   "source": [
    "bfilter = cv2.bilateralFilter(gray, 11,17,17) #Noise reduction\n",
    "edged = cv2.Canny(bfilter, 30, 200)  #Edge detection\n",
    "plt.imshow(cv2.cvtColor(edged, cv2.COLOR_BGR2RGB))"
   ]
  },
  {
   "cell_type": "markdown",
   "id": "da04c2d7",
   "metadata": {},
   "source": [
    "# 3. Find Contours and apply mask"
   ]
  },
  {
   "cell_type": "code",
   "execution_count": null,
   "id": "ceca98fa",
   "metadata": {},
   "outputs": [],
   "source": [
    "keypoints = cv2.findContours(edged.copuy(), cv2.RETR_TREE, cv2.CHAIN_APPROX_SIMPLE)\n",
    "contours = imutils.grab_contours(keyponts)\n",
    "contours = sorted(contours, key=cv2.contourArea, reverse=True)[:10]"
   ]
  },
  {
   "cell_type": "code",
   "execution_count": null,
   "id": "11643549",
   "metadata": {},
   "outputs": [],
   "source": [
    "location = None\n",
    "for contour in contours:\n",
    "    approx = cv2.approxPolyDP(contour, 10, True)\n",
    "    if len(approx) ==4:\n",
    "        location = approx\n",
    "        break"
   ]
  },
  {
   "cell_type": "code",
   "execution_count": null,
   "id": "4f26a2b2",
   "metadata": {},
   "outputs": [],
   "source": [
    "location"
   ]
  },
  {
   "cell_type": "code",
   "execution_count": null,
   "id": "a7898cc6",
   "metadata": {},
   "outputs": [],
   "source": [
    "mask = np.zeros(gray.shape, np.uint8)\n",
    "new_image = cv2.drawContours(mask,[location], 0,255, -1)\n",
    "new_image = cv2.bitwise_and(img, img, mask=mask)"
   ]
  },
  {
   "cell_type": "code",
   "execution_count": null,
   "id": "0c537cca",
   "metadata": {},
   "outputs": [],
   "source": [
    "plt.imshow(cv2.cvtColor(new_image, cv2.COLOR_BGR2RGB)"
   ]
  },
  {
   "cell_type": "code",
   "execution_count": null,
   "id": "4091d5e8",
   "metadata": {},
   "outputs": [],
   "source": [
    "(x,y) = np.where(mask==255)\n",
    "(x1,y1) = (np.min(x), np.min(y))\n",
    "(x2,y2) = (np.max(x), np.max(y))\n",
    "cropped_image = gray[x1:x2+1, y1:y2+1]"
   ]
  },
  {
   "cell_type": "code",
   "execution_count": null,
   "id": "20523029",
   "metadata": {},
   "outputs": [],
   "source": [
    "plt.imshow(cv2.cvtColor(cropped_image, cv2.COLOR_BGR2RGB)"
   ]
  },
  {
   "cell_type": "markdown",
   "id": "fe783afd",
   "metadata": {},
   "source": [
    "# 4. Use Easy OCR to read text"
   ]
  },
  {
   "cell_type": "code",
   "execution_count": null,
   "id": "43a963b2",
   "metadata": {},
   "outputs": [],
   "source": [
    "reader = easuocr.Reader(['en'])\n",
    "result = reader.readtext(cropped_image)\n",
    "result"
   ]
  }
 ],
 "metadata": {
  "kernelspec": {
   "display_name": "Python 3 (ipykernel)",
   "language": "python",
   "name": "python3"
  },
  "language_info": {
   "codemirror_mode": {
    "name": "ipython",
    "version": 3
   },
   "file_extension": ".py",
   "mimetype": "text/x-python",
   "name": "python",
   "nbconvert_exporter": "python",
   "pygments_lexer": "ipython3",
   "version": "3.10.6"
  }
 },
 "nbformat": 4,
 "nbformat_minor": 5
}
